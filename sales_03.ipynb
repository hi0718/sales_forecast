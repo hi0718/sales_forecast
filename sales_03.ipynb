{
  "nbformat": 4,
  "nbformat_minor": 0,
  "metadata": {
    "colab": {
      "name": "Knock100_ch04.ipynb",
      "provenance": [],
      "collapsed_sections": []
    },
    "kernelspec": {
      "name": "python3",
      "display_name": "Python 3"
    },
    "accelerator": "GPU"
  },
  "cells": [
    {
      "cell_type": "code",
      "metadata": {
        "id": "-QnIeBldo2T4",
        "colab_type": "code",
        "colab": {}
      },
      "source": [
        "import pandas as pd\n",
        "uselog = pd.read_csv('use_log.csv')\n",
        "uselog.isnull().sum()"
      ],
      "execution_count": 0,
      "outputs": []
    },
    {
      "cell_type": "code",
      "metadata": {
        "id": "tQOAI9nxpQsu",
        "colab_type": "code",
        "colab": {}
      },
      "source": [
        "customer = pd.read_csv('customer_join.csv')\n",
        "customer.isnull().sum()"
      ],
      "execution_count": 0,
      "outputs": []
    },
    {
      "cell_type": "code",
      "metadata": {
        "id": "MP5fSSPapqzp",
        "colab_type": "code",
        "colab": {}
      },
      "source": [
        "customer_clustering = customer[['mean','median','max','min','membership_period']]\n",
        "customer_clustering.head()"
      ],
      "execution_count": 0,
      "outputs": []
    },
    {
      "cell_type": "code",
      "metadata": {
        "id": "wQOSLj_gqLXW",
        "colab_type": "code",
        "colab": {}
      },
      "source": [
        "from sklearn.cluster import KMeans\n",
        "from sklearn.preprocessing import StandardScaler\n",
        "sc = StandardScaler()\n",
        "customer_clustering_sc = sc.fit_transform(customer_clustering)\n",
        "\n",
        "kmeans = KMeans(n_clusters=4, random_state=0)\n",
        "clusters = kmeans.fit(customer_clustering_sc)\n",
        "customer_clustering['cluster'] = clusters.labels_\n",
        "print(customer_clustering['cluster'].unique())\n",
        "customer_clustering.head()"
      ],
      "execution_count": 0,
      "outputs": []
    },
    {
      "cell_type": "code",
      "metadata": {
        "id": "jzLvOYe-JEgW",
        "colab_type": "code",
        "colab": {}
      },
      "source": [
        "customer_clustering.columns = ['月内平均値','月内中央値','月内最大値','月内最小値','会員期間','cluster']\n",
        "customer_clustering.groupby('cluster').count()"
      ],
      "execution_count": 0,
      "outputs": []
    },
    {
      "cell_type": "code",
      "metadata": {
        "id": "Suw79sf-KZTp",
        "colab_type": "code",
        "colab": {}
      },
      "source": [
        "customer_clustering.groupby('cluster').mean()"
      ],
      "execution_count": 0,
      "outputs": []
    },
    {
      "cell_type": "code",
      "metadata": {
        "id": "AGsQvunbK43A",
        "colab_type": "code",
        "colab": {}
      },
      "source": [
        "from sklearn.decomposition import PCA\n",
        "X = customer_clustering_sc\n",
        "pca = PCA(n_components=2)\n",
        "pca.fit(X)\n",
        "x_pca = pca.transform(X)\n",
        "pca_df = pd.DataFrame(x_pca)\n",
        "pca_df['cluster'] = customer_clustering['cluster']"
      ],
      "execution_count": 0,
      "outputs": []
    },
    {
      "cell_type": "code",
      "metadata": {
        "id": "_UTSpHOILoS2",
        "colab_type": "code",
        "colab": {}
      },
      "source": [
        "import matplotlib.pyplot as plt\n",
        "%matplotlib inline\n",
        "\n",
        "for i in customer_clustering['cluster'].unique():\n",
        "  tmp = pca_df.loc[pca_df['cluster']==i]\n",
        "  plt.scatter(tmp[0],tmp[1])"
      ],
      "execution_count": 0,
      "outputs": []
    },
    {
      "cell_type": "code",
      "metadata": {
        "id": "Bz9pT7NbObmy",
        "colab_type": "code",
        "colab": {}
      },
      "source": [
        "len(customer),len(customer_clustering)"
      ],
      "execution_count": 0,
      "outputs": []
    },
    {
      "cell_type": "code",
      "metadata": {
        "id": "laWzhWLDMVC9",
        "colab_type": "code",
        "colab": {}
      },
      "source": [
        "customer_clustering = pd.concat([customer_clustering,customer],axis=1)\n",
        "customer_clustering.groupby(['cluster','is_deleted'], as_index=False).count()[['cluster','is_deleted','customer_id']]"
      ],
      "execution_count": 0,
      "outputs": []
    },
    {
      "cell_type": "code",
      "metadata": {
        "id": "ngnZAgwRPL_Q",
        "colab_type": "code",
        "colab": {}
      },
      "source": [
        "customer_clustering.groupby(['cluster','routine_flg'], as_index=False).count()[['cluster','routine_flg','customer_id']]"
      ],
      "execution_count": 0,
      "outputs": []
    },
    {
      "cell_type": "code",
      "metadata": {
        "id": "EM_Qof02P0qO",
        "colab_type": "code",
        "colab": {}
      },
      "source": [
        "uselog['usedate'] = pd.to_datetime(uselog['usedate'])\n",
        "uselog['年月'] = uselog['usedate'].dt.strftime('%Y%m')\n",
        "uselog_months = uselog.groupby(['年月','customer_id'], as_index=False).count()\n",
        "uselog_months.rename(columns={'log_id':'count'}, inplace=True)\n",
        "del uselog_months['usedate']\n",
        "uselog_months.head()"
      ],
      "execution_count": 0,
      "outputs": []
    },
    {
      "cell_type": "code",
      "metadata": {
        "id": "jpcrYWnmRpC7",
        "colab_type": "code",
        "colab": {}
      },
      "source": [
        "year_months = list(uselog_months['年月'].unique())\n",
        "predict_data = pd.DataFrame()\n",
        "for i in range(6, len(year_months)):\n",
        "  tmp = uselog_months.loc[uselog_months['年月']==year_months[i]]\n",
        "  tmp.rename(columns={'count':'count_pred'}, inplace =True)\n",
        "  for j in range(1,7):\n",
        "    tmp_before = uselog_months.loc[uselog_months['年月']==year_months[i-j]]\n",
        "    del tmp_before['年月']\n",
        "    tmp_before.rename(columns={'count':'count_{}'.format(j-1)}, inplace=True)\n",
        "    tmp = pd.merge(tmp, tmp_before, on='customer_id', how='left')\n",
        "  predict_data = pd.concat([predict_data,tmp],ignore_index=True)\n",
        "predict_data.head()"
      ],
      "execution_count": 0,
      "outputs": []
    },
    {
      "cell_type": "code",
      "metadata": {
        "id": "HHnxHSE8dH5t",
        "colab_type": "code",
        "colab": {}
      },
      "source": [
        "predict_data = predict_data.dropna()\n",
        "predict_data = predict_data.reset_index(drop=True)\n",
        "predict_data.head()"
      ],
      "execution_count": 0,
      "outputs": []
    },
    {
      "cell_type": "code",
      "metadata": {
        "id": "hZ7k3ynuddwz",
        "colab_type": "code",
        "colab": {}
      },
      "source": [
        "predict_data = pd.merge(predict_data, customer[['customer_id','start_date']],on='customer_id',how='left')\n",
        "predict_data.head()"
      ],
      "execution_count": 0,
      "outputs": []
    },
    {
      "cell_type": "code",
      "metadata": {
        "id": "VR_ucKyxeLvS",
        "colab_type": "code",
        "colab": {}
      },
      "source": [
        "predict_data['now_date'] = pd.to_datetime(predict_data['年月'], format='%Y%m')\n",
        "predict_data['start_date'] = pd.to_datetime(predict_data['start_date'])\n",
        "from dateutil.relativedelta import relativedelta\n",
        "predict_data['period'] = None\n",
        "for i in range(len(predict_data)):\n",
        "  delta = relativedelta(predict_data['now_date'][i], predict_data['start_date'][i])\n",
        "  predict_data['period'][i] = delta.years*12 * delta.months\n",
        "predict_data.head()\n"
      ],
      "execution_count": 0,
      "outputs": []
    },
    {
      "cell_type": "code",
      "metadata": {
        "id": "m4vWKwFUnWxv",
        "colab_type": "code",
        "colab": {}
      },
      "source": [
        "predict_data = predict_data.loc[predict_data['start_date']>=pd.to_datetime('20180401')]\n",
        "from sklearn import linear_model\n",
        "import sklearn.model_selection\n",
        "model = linear_model.LinearRegression()\n",
        "X = predict_data[['count_0','count_1','count_2','count_3','count_4','count_5','period']]\n",
        "y = predict_data['count_pred']\n",
        "X_train,X_test,y_train,y_test = sklearn.model_selection.train_test_split(X,y)\n",
        "model.fit(X_train,y_train)"
      ],
      "execution_count": 0,
      "outputs": []
    },
    {
      "cell_type": "code",
      "metadata": {
        "id": "f580qclTo2HN",
        "colab_type": "code",
        "colab": {}
      },
      "source": [
        "print(model.score(X_train,y_train))\n",
        "print(model.score(X_test,y_test))"
      ],
      "execution_count": 0,
      "outputs": []
    },
    {
      "cell_type": "code",
      "metadata": {
        "id": "0rUI9k2ipEaC",
        "colab_type": "code",
        "colab": {}
      },
      "source": [
        "coef = pd.DataFrame({'feature_names':X.columns, 'coefficient':model.coef_})\n",
        "coef"
      ],
      "execution_count": 0,
      "outputs": []
    },
    {
      "cell_type": "code",
      "metadata": {
        "id": "mIetyQTFpmDV",
        "colab_type": "code",
        "colab": {}
      },
      "source": [
        "x1 = [3,4,4,6,8,7,8]\n",
        "x2 = [2,2,3,3,4,6,8]\n",
        "x_pred = [x1,x2]"
      ],
      "execution_count": 0,
      "outputs": []
    },
    {
      "cell_type": "code",
      "metadata": {
        "id": "TEavutf2qokk",
        "colab_type": "code",
        "colab": {}
      },
      "source": [
        "model.predict(x_pred)"
      ],
      "execution_count": 0,
      "outputs": []
    },
    {
      "cell_type": "code",
      "metadata": {
        "id": "sOtG3ldzqw0J",
        "colab_type": "code",
        "colab": {}
      },
      "source": [
        "uselog_months.to_csv('use_log_months.csv', index=False)"
      ],
      "execution_count": 0,
      "outputs": []
    }
  ]
}