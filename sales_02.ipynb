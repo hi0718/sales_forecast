{
  "nbformat": 4,
  "nbformat_minor": 0,
  "metadata": {
    "colab": {
      "name": "Knock100_ch03.ipynb",
      "provenance": [],
      "collapsed_sections": []
    },
    "kernelspec": {
      "name": "python3",
      "display_name": "Python 3"
    }
  },
  "cells": [
    {
      "cell_type": "code",
      "metadata": {
        "id": "AF2hUbhCDso9",
        "colab_type": "code",
        "colab": {}
      },
      "source": [
        "import warnings\n",
        "warnings.filterwarnings('ignore')"
      ],
      "execution_count": 0,
      "outputs": []
    },
    {
      "cell_type": "code",
      "metadata": {
        "id": "wm6_WGjjEqtI",
        "colab_type": "code",
        "colab": {}
      },
      "source": [
        "import pandas as pd\n",
        "uselog = pd.read_csv('./use_log.csv')\n",
        "print(len(uselog))\n",
        "uselog.head()"
      ],
      "execution_count": 0,
      "outputs": []
    },
    {
      "cell_type": "code",
      "metadata": {
        "id": "rV2LjuhBFC62",
        "colab_type": "code",
        "colab": {}
      },
      "source": [
        "customer = pd.read_csv('customer_master.csv')\n",
        "print(len(customer))\n",
        "customer.head()"
      ],
      "execution_count": 0,
      "outputs": []
    },
    {
      "cell_type": "code",
      "metadata": {
        "id": "TudBLK3NFUX2",
        "colab_type": "code",
        "colab": {}
      },
      "source": [
        "class_master = pd.read_csv('class_master.csv')\n",
        "print(len(class_master))\n",
        "class_master.head()"
      ],
      "execution_count": 0,
      "outputs": []
    },
    {
      "cell_type": "code",
      "metadata": {
        "id": "-P1zZhJoFla9",
        "colab_type": "code",
        "colab": {}
      },
      "source": [
        "campaign_master = pd.read_csv('campaign_master.csv')\n",
        "print(len(campaign_master))\n",
        "campaign_master.head()"
      ],
      "execution_count": 0,
      "outputs": []
    },
    {
      "cell_type": "code",
      "metadata": {
        "id": "Dmt5WjX7F1FE",
        "colab_type": "code",
        "colab": {}
      },
      "source": [
        "customer_join = pd.merge(customer, class_master, on='class', how='left')\n",
        "customer_join = pd.merge(customer_join, campaign_master, on='campaign_id', how='left')\n",
        "customer_join.head()"
      ],
      "execution_count": 0,
      "outputs": []
    },
    {
      "cell_type": "code",
      "metadata": {
        "id": "lSDGutbBIRrJ",
        "colab_type": "code",
        "colab": {}
      },
      "source": [
        "len(customer),len(customer_join)"
      ],
      "execution_count": 0,
      "outputs": []
    },
    {
      "cell_type": "code",
      "metadata": {
        "id": "JkNRbWrGIX6R",
        "colab_type": "code",
        "colab": {}
      },
      "source": [
        "customer_join.isnull().sum()"
      ],
      "execution_count": 0,
      "outputs": []
    },
    {
      "cell_type": "code",
      "metadata": {
        "id": "OvDExKesIfIo",
        "colab_type": "code",
        "colab": {}
      },
      "source": [
        "customer_join.groupby('class_name').count()['customer_id']"
      ],
      "execution_count": 0,
      "outputs": []
    },
    {
      "cell_type": "code",
      "metadata": {
        "id": "3yO_SFPNJIzm",
        "colab_type": "code",
        "colab": {}
      },
      "source": [
        "customer_join.columns"
      ],
      "execution_count": 0,
      "outputs": []
    },
    {
      "cell_type": "code",
      "metadata": {
        "id": "MR8MVbc2IxGI",
        "colab_type": "code",
        "colab": {}
      },
      "source": [
        "customer_join.groupby('campaign_name').count()['customer_id']"
      ],
      "execution_count": 0,
      "outputs": []
    },
    {
      "cell_type": "code",
      "metadata": {
        "id": "_LUUYAO5J9m8",
        "colab_type": "code",
        "colab": {}
      },
      "source": [
        "customer_join.groupby('gender').count()['customer_id']"
      ],
      "execution_count": 0,
      "outputs": []
    },
    {
      "cell_type": "code",
      "metadata": {
        "id": "q00xYd1jKGhE",
        "colab_type": "code",
        "colab": {}
      },
      "source": [
        "customer_join.groupby('is_deleted').count()['customer_id']"
      ],
      "execution_count": 0,
      "outputs": []
    },
    {
      "cell_type": "code",
      "metadata": {
        "id": "ei8TQb2lKRDI",
        "colab_type": "code",
        "colab": {}
      },
      "source": [
        "customer_join['start_date'] = pd.to_datetime(customer_join['start_date'])\n",
        "customer_start = customer_join.loc[customer_join['start_date']>pd.to_datetime('20180401')]\n",
        "print(len(customer_start))"
      ],
      "execution_count": 0,
      "outputs": []
    },
    {
      "cell_type": "code",
      "metadata": {
        "id": "5XOAVPnOLgTR",
        "colab_type": "code",
        "colab": {}
      },
      "source": [
        "customer_join['end_date'] = pd.to_datetime(customer_join['end_date'])\n",
        "customer_newer = customer_join.loc[(customer_join['end_date']>=pd.to_datetime('20190331')) | (customer_join['end_date'].isna())]\n",
        "print(len(customer_newer))\n",
        "customer_newer['end_date'].unique()"
      ],
      "execution_count": 0,
      "outputs": []
    },
    {
      "cell_type": "code",
      "metadata": {
        "id": "F_xC9VogMYX6",
        "colab_type": "code",
        "colab": {}
      },
      "source": [
        "customer_newer.groupby('class_name').count()['customer_id']"
      ],
      "execution_count": 0,
      "outputs": []
    },
    {
      "cell_type": "code",
      "metadata": {
        "id": "iHwORky9MjvH",
        "colab_type": "code",
        "colab": {}
      },
      "source": [
        "customer_newer.groupby('campaign_name').count()['customer_id']"
      ],
      "execution_count": 0,
      "outputs": []
    },
    {
      "cell_type": "code",
      "metadata": {
        "id": "EHTlx9b8MwUx",
        "colab_type": "code",
        "colab": {}
      },
      "source": [
        "customer_newer.groupby('gender').count()['customer_id']"
      ],
      "execution_count": 0,
      "outputs": []
    },
    {
      "cell_type": "code",
      "metadata": {
        "id": "PatntltSM-a_",
        "colab_type": "code",
        "colab": {}
      },
      "source": [
        "uselog['usedate'] = pd.to_datetime(uselog['usedate'])\n",
        "uselog['年月'] = uselog['usedate'].dt.strftime('%Y%m')\n",
        "uselog_months = uselog.groupby(['年月','customer_id'], as_index=False).count()\n",
        "uselog_months.rename(columns={'log_id':'count'}, inplace=True)\n",
        "del uselog_months['usedate']\n",
        "uselog_months.head()"
      ],
      "execution_count": 0,
      "outputs": []
    },
    {
      "cell_type": "code",
      "metadata": {
        "id": "qi35yLcaVV9G",
        "colab_type": "code",
        "colab": {}
      },
      "source": [
        "uselog_customer = uselog_months.groupby('customer_id').agg(['mean','median','max','min'])['count']\n",
        "uselog_customer = uselog_customer.reset_index(drop=False)\n",
        "uselog_customer.head()"
      ],
      "execution_count": 0,
      "outputs": []
    },
    {
      "cell_type": "code",
      "metadata": {
        "id": "DeAgQHZ4XJjT",
        "colab_type": "code",
        "colab": {}
      },
      "source": [
        "uselog['weekday'] = uselog['usedate'].dt.weekday\n",
        "uselog_weekday = uselog.groupby(['customer_id','年月','weekday'], as_index=False).count()[['customer_id','年月','weekday','log_id']]\n",
        "uselog_weekday.rename(columns={'log_id':'count'}, inplace=True)\n",
        "uselog_weekday.head()"
      ],
      "execution_count": 0,
      "outputs": []
    },
    {
      "cell_type": "code",
      "metadata": {
        "id": "6Xfado-Ha3uk",
        "colab_type": "code",
        "colab": {}
      },
      "source": [
        "uselog_weekday = uselog_weekday.groupby('customer_id', as_index=False).max()[['customer_id','count']]\n",
        "uselog_weekday['routine_flg'] = 0\n",
        "uselog_weekday['routine_flg'] = uselog_weekday['routine_flg'].where(uselog_weekday['count']<4,1)\n",
        "uselog_weekday.head()"
      ],
      "execution_count": 0,
      "outputs": []
    },
    {
      "cell_type": "code",
      "metadata": {
        "id": "vMnO_RqfZUeP",
        "colab_type": "code",
        "colab": {}
      },
      "source": [
        "customer_join = pd.merge(customer_join,uselog_customer,on='customer_id', how='left')\n",
        "customer_join = pd.merge(customer_join, uselog_weekday[['customer_id','routine_flg']],on='customer_id', how='left')\n",
        "customer_join.head()"
      ],
      "execution_count": 0,
      "outputs": []
    },
    {
      "cell_type": "code",
      "metadata": {
        "id": "ir-BTVjufDj-",
        "colab_type": "code",
        "colab": {}
      },
      "source": [
        "customer_join.isnull().sum()"
      ],
      "execution_count": 0,
      "outputs": []
    },
    {
      "cell_type": "code",
      "metadata": {
        "id": "3y5jFuaRfI2E",
        "colab_type": "code",
        "colab": {}
      },
      "source": [
        "from dateutil.relativedelta import relativedelta\n",
        "customer_join['calc_date'] = customer_join['end_date']\n",
        "customer_join['calc_date'] = customer_join['calc_date'].fillna(pd.to_datetime('20190430'))\n",
        "customer_join['membership_period'] = 0\n",
        "for i in range(len(customer_join)):\n",
        "  delta = relativedelta(customer_join['calc_date'].iloc[i], customer_join['start_date'].iloc[i])\n",
        "  customer_join['membership_period'].iloc[i] = delta.years*12 + delta.months\n",
        "customer_join.head()\n",
        "#print(len(customer_join))"
      ],
      "execution_count": 0,
      "outputs": []
    },
    {
      "cell_type": "code",
      "metadata": {
        "id": "BHY9NMaCkR8D",
        "colab_type": "code",
        "colab": {}
      },
      "source": [
        "customer_join[['mean','median','max','min']].describe()"
      ],
      "execution_count": 0,
      "outputs": []
    },
    {
      "cell_type": "code",
      "metadata": {
        "id": "k4cl0v-llRNZ",
        "colab_type": "code",
        "colab": {}
      },
      "source": [
        "customer_join.groupby('routine_flg').count()['customer_id']"
      ],
      "execution_count": 0,
      "outputs": []
    },
    {
      "cell_type": "code",
      "metadata": {
        "id": "9mvyPucclrOA",
        "colab_type": "code",
        "colab": {}
      },
      "source": [
        "import matplotlib.pyplot as plt\n",
        "%matplotlib inline\n",
        "plt.hist(customer_join['membership_period'])"
      ],
      "execution_count": 0,
      "outputs": []
    },
    {
      "cell_type": "code",
      "metadata": {
        "id": "1zvfv68UmO58",
        "colab_type": "code",
        "colab": {}
      },
      "source": [
        "customer_end = customer_join.loc[customer_join['is_deleted']==1]\n",
        "customer_end.describe()"
      ],
      "execution_count": 0,
      "outputs": []
    },
    {
      "cell_type": "code",
      "metadata": {
        "id": "rI_4rijHmjvy",
        "colab_type": "code",
        "colab": {}
      },
      "source": [
        "customer_stay = customer_join.loc[customer_join['is_deleted']==0]\n",
        "customer_stay.describe()"
      ],
      "execution_count": 0,
      "outputs": []
    },
    {
      "cell_type": "code",
      "metadata": {
        "id": "AcfeFP-Fm5W2",
        "colab_type": "code",
        "colab": {}
      },
      "source": [
        "customer_join.to_csv('customer_join.csv', index=False)"
      ],
      "execution_count": 0,
      "outputs": []
    }
  ]
}