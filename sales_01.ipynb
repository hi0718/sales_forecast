{
  "nbformat": 4,
  "nbformat_minor": 0,
  "metadata": {
    "colab": {
      "name": "Knock100_ch02.ipynb",
      "provenance": [],
      "collapsed_sections": []
    },
    "kernelspec": {
      "name": "python3",
      "display_name": "Python 3"
    }
  },
  "cells": [
    {
      "cell_type": "code",
      "metadata": {
        "id": "xF7qE760QwIY",
        "colab_type": "code",
        "colab": {}
      },
      "source": [
        "import pandas as pd\n",
        "uriage_data = pd.read_csv('uriage.csv')\n",
        "uriage_data.head()"
      ],
      "execution_count": 0,
      "outputs": []
    },
    {
      "cell_type": "code",
      "metadata": {
        "id": "J3y-nb37R85i",
        "colab_type": "code",
        "colab": {}
      },
      "source": [
        "kokyaku_data = pd.read_excel('./kokyaku_daicho.xlsx')\n",
        "kokyaku_data.head()"
      ],
      "execution_count": 0,
      "outputs": []
    },
    {
      "cell_type": "code",
      "metadata": {
        "id": "gSvE6ephSTFy",
        "colab_type": "code",
        "colab": {}
      },
      "source": [
        "uriage_data['item_name'].head()"
      ],
      "execution_count": 0,
      "outputs": []
    },
    {
      "cell_type": "code",
      "metadata": {
        "id": "R6CPg42TSeBS",
        "colab_type": "code",
        "colab": {}
      },
      "source": [
        "uriage_data['item_price'].head()"
      ],
      "execution_count": 0,
      "outputs": []
    },
    {
      "cell_type": "code",
      "metadata": {
        "id": "LecKbUyKSm5R",
        "colab_type": "code",
        "colab": {}
      },
      "source": [
        "kokyaku_data['登録日'].head()"
      ],
      "execution_count": 0,
      "outputs": []
    },
    {
      "cell_type": "code",
      "metadata": {
        "id": "QJGXkJiZUYNb",
        "colab_type": "code",
        "colab": {}
      },
      "source": [
        "uriage_data['purchase_date'] = pd.to_datetime(uriage_data['purchase_date'])\n",
        "uriage_data['purchase_month'] = uriage_data['purchase_date'].dt.strftime('%Y%m')\n",
        "res = uriage_data.pivot_table(index='purchase_month',columns='item_name',aggfunc='size')\n",
        "res"
      ],
      "execution_count": 0,
      "outputs": []
    },
    {
      "cell_type": "code",
      "metadata": {
        "id": "tnnJQ6_bVYdB",
        "colab_type": "code",
        "colab": {}
      },
      "source": [
        "res = uriage_data.pivot_table(index='purchase_month', columns='item_name',values='item_price',aggfunc='sum',fill_value=0)\n",
        "res"
      ],
      "execution_count": 0,
      "outputs": []
    },
    {
      "cell_type": "code",
      "metadata": {
        "id": "oDgj1CgyWeHe",
        "colab_type": "code",
        "outputId": "de19369a-db98-4955-ac09-b7d8f8b7c7ee",
        "colab": {
          "base_uri": "https://localhost:8080/",
          "height": 34
        }
      },
      "source": [
        "len(pd.unique(uriage_data['item_name']))"
      ],
      "execution_count": 0,
      "outputs": [
        {
          "output_type": "execute_result",
          "data": {
            "text/plain": [
              "99"
            ]
          },
          "metadata": {
            "tags": []
          },
          "execution_count": 11
        }
      ]
    },
    {
      "cell_type": "code",
      "metadata": {
        "id": "H7_UI3poWvcB",
        "colab_type": "code",
        "colab": {}
      },
      "source": [
        "uriage_data['item_name'] = uriage_data['item_name'].str.upper()\n",
        "uriage_data['item_name'] = uriage_data['item_name'].str.replace('　','')\n",
        "uriage_data['item_name'] = uriage_data['item_name'].str.replace(' ','')\n",
        "uriage_data.sort_values(by=['item_name'], ascending=True)"
      ],
      "execution_count": 0,
      "outputs": []
    },
    {
      "cell_type": "code",
      "metadata": {
        "id": "0kUk50spXtK2",
        "colab_type": "code",
        "colab": {}
      },
      "source": [
        "print(pd.unique(uriage_data['item_name']))\n",
        "print(len(pd.unique(uriage_data['item_name'])))"
      ],
      "execution_count": 0,
      "outputs": []
    },
    {
      "cell_type": "code",
      "metadata": {
        "id": "YfvECXzIYFb6",
        "colab_type": "code",
        "colab": {}
      },
      "source": [
        "uriage_data.isnull().any(axis=0)"
      ],
      "execution_count": 0,
      "outputs": []
    },
    {
      "cell_type": "code",
      "metadata": {
        "id": "Hr3WFWofcAr2",
        "colab_type": "code",
        "colab": {}
      },
      "source": [
        "list(uriage_data.loc[flg_is_null, 'item_name'].unique())"
      ],
      "execution_count": 0,
      "outputs": []
    },
    {
      "cell_type": "code",
      "metadata": {
        "id": "_g3QgF4GZPQD",
        "colab_type": "code",
        "colab": {}
      },
      "source": [
        "flg_is_null = uriage_data['item_price'].isnull()\n",
        "for trg in list(uriage_data.loc[flg_is_null, 'item_name'].unique()):\n",
        "  price = uriage_data.loc[(~flg_is_null) & (uriage_data['item_name'] == trg), 'item_price' ].max()\n",
        "  uriage_data['item_price'].loc[(flg_is_null) & (uriage_data['item_name'] == trg)] = price\n",
        "uriage_data.head()"
      ],
      "execution_count": 0,
      "outputs": []
    },
    {
      "cell_type": "code",
      "metadata": {
        "id": "uQY4T6X8ce4d",
        "colab_type": "code",
        "colab": {}
      },
      "source": [
        "uriage_data.isnull().any(axis=0)"
      ],
      "execution_count": 0,
      "outputs": []
    },
    {
      "cell_type": "code",
      "metadata": {
        "id": "E2_sldqMdjVX",
        "colab_type": "code",
        "colab": {}
      },
      "source": [
        "for trg in list(uriage_data['item_name'].sort_values().unique()):\n",
        "  print(trg + 'の最大額：' + str(uriage_data.loc[uriage_data['item_name']==trg]['item_price'].max()) + 'の最小額：' + str(uriage_data.loc[uriage_data['item_name']==trg]['item_price'].min(skipna=False)))"
      ],
      "execution_count": 0,
      "outputs": []
    },
    {
      "cell_type": "code",
      "metadata": {
        "id": "NYm7QWVXgoOA",
        "colab_type": "code",
        "colab": {}
      },
      "source": [
        "kokyaku_data['顧客名'].head()"
      ],
      "execution_count": 0,
      "outputs": []
    },
    {
      "cell_type": "code",
      "metadata": {
        "id": "r-KKeUBtgx11",
        "colab_type": "code",
        "colab": {}
      },
      "source": [
        "uriage_data['customer_name'].head()"
      ],
      "execution_count": 0,
      "outputs": []
    },
    {
      "cell_type": "code",
      "metadata": {
        "id": "G9s9x4Gng9yQ",
        "colab_type": "code",
        "colab": {}
      },
      "source": [
        "kokyaku_data['顧客名'] = kokyaku_data['顧客名'].str.replace('　','')\n",
        "kokyaku_data['顧客名'] = kokyaku_data['顧客名'].str.replace(' ','')\n",
        "kokyaku_data['顧客名'].head()"
      ],
      "execution_count": 0,
      "outputs": []
    },
    {
      "cell_type": "code",
      "metadata": {
        "id": "7P7ekMunhXe8",
        "colab_type": "code",
        "outputId": "033318f4-3b56-4e58-a3ec-cfc344f0d3c9",
        "colab": {
          "base_uri": "https://localhost:8080/",
          "height": 34
        }
      },
      "source": [
        "flg_is_serial = kokyaku_data['登録日'].astype('str').str.isdigit()\n",
        "flg_is_serial.sum()"
      ],
      "execution_count": 0,
      "outputs": [
        {
          "output_type": "execute_result",
          "data": {
            "text/plain": [
              "22"
            ]
          },
          "metadata": {
            "tags": []
          },
          "execution_count": 35
        }
      ]
    },
    {
      "cell_type": "code",
      "metadata": {
        "id": "7WGHGhB1iEyS",
        "colab_type": "code",
        "colab": {}
      },
      "source": [
        "fromSerial = pd.to_timedelta(kokyaku_data.loc[flg_is_serial,'登録日'].astype('float'),unit='D') + pd.to_datetime('1900/01/01')\n",
        "fromSerial"
      ],
      "execution_count": 0,
      "outputs": []
    },
    {
      "cell_type": "code",
      "metadata": {
        "id": "Yaiw0lcP0LFu",
        "colab_type": "code",
        "colab": {}
      },
      "source": [
        "fromString = pd.to_datetime(kokyaku_data.loc[~flg_is_serial,'登録日'])\n",
        "fromString"
      ],
      "execution_count": 0,
      "outputs": []
    },
    {
      "cell_type": "code",
      "metadata": {
        "id": "_L-3EKKg0mcT",
        "colab_type": "code",
        "colab": {}
      },
      "source": [
        "kokyaku_data['登録日'] = pd.concat([fromSerial,fromString])\n",
        "kokyaku_data"
      ],
      "execution_count": 0,
      "outputs": []
    },
    {
      "cell_type": "code",
      "metadata": {
        "id": "mC8GyEtw06t8",
        "colab_type": "code",
        "colab": {}
      },
      "source": [
        "kokyaku_data['登録年月'] = kokyaku_data['登録日'].dt.strftime('%Y%m')\n",
        "rslt = kokyaku_data.groupby('登録年月').count()['顧客名']\n",
        "print(rslt)\n",
        "print(len(kokyaku_data))"
      ],
      "execution_count": 0,
      "outputs": []
    },
    {
      "cell_type": "code",
      "metadata": {
        "id": "-KzjCkH42OXZ",
        "colab_type": "code",
        "outputId": "1a44c736-791b-41d6-ef6b-67480769ebfc",
        "colab": {
          "base_uri": "https://localhost:8080/",
          "height": 34
        }
      },
      "source": [
        "flg_is_serial = kokyaku_data['登録日'].astype('str').str.isdigit()\n",
        "flg_is_serial.sum()"
      ],
      "execution_count": 0,
      "outputs": [
        {
          "output_type": "execute_result",
          "data": {
            "text/plain": [
              "0"
            ]
          },
          "metadata": {
            "tags": []
          },
          "execution_count": 43
        }
      ]
    },
    {
      "cell_type": "code",
      "metadata": {
        "id": "RFEYByG52yJR",
        "colab_type": "code",
        "colab": {}
      },
      "source": [
        "join_data = pd.merge(uriage_data, kokyaku_data, left_on='customer_name',right_on='顧客名', how='left')\n",
        "join_data = join_data.drop('customer_name', axis=1)\n",
        "join_data"
      ],
      "execution_count": 0,
      "outputs": []
    },
    {
      "cell_type": "code",
      "metadata": {
        "id": "_q1qypnu7NbH",
        "colab_type": "code",
        "colab": {}
      },
      "source": [
        "dump_data = join_data[['purchase_date', 'purchase_month', 'item_name', 'item_price','顧客名','かな','地域','メールアドレス','登録日']]\n",
        "dump_data"
      ],
      "execution_count": 0,
      "outputs": []
    },
    {
      "cell_type": "code",
      "metadata": {
        "id": "6FCqAdmw79Vq",
        "colab_type": "code",
        "colab": {}
      },
      "source": [
        "dump_data.to_csv('dump_data1.csv', index=False)"
      ],
      "execution_count": 0,
      "outputs": []
    },
    {
      "cell_type": "code",
      "metadata": {
        "id": "SkAprT1K8Y7a",
        "colab_type": "code",
        "colab": {}
      },
      "source": [
        "import_data = pd.read_csv('dump_data1.csv')\n",
        "import_data"
      ],
      "execution_count": 0,
      "outputs": []
    },
    {
      "cell_type": "code",
      "metadata": {
        "id": "JrT5xN3t8kMa",
        "colab_type": "code",
        "colab": {}
      },
      "source": [
        "byItem = import_data.pivot_table(index='purchase_month', columns='item_name', aggfunc='size', fill_value=0)\n",
        "byItem"
      ],
      "execution_count": 0,
      "outputs": []
    },
    {
      "cell_type": "code",
      "metadata": {
        "id": "p86OQ4S_9FOy",
        "colab_type": "code",
        "colab": {}
      },
      "source": [
        "byPrice = import_data.pivot_table(index='purchase_month', columns='item_name', values='item_price', aggfunc='sum', fill_value=0)\n",
        "byPrice"
      ],
      "execution_count": 0,
      "outputs": []
    },
    {
      "cell_type": "code",
      "metadata": {
        "id": "ekLb2YkN9bJ3",
        "colab_type": "code",
        "colab": {}
      },
      "source": [
        "byCustomer = import_data.pivot_table(index='purchase_month', columns='顧客名', aggfunc='size', fill_value=0)\n",
        "byCustomer"
      ],
      "execution_count": 0,
      "outputs": []
    },
    {
      "cell_type": "code",
      "metadata": {
        "id": "al0PlibW-qgt",
        "colab_type": "code",
        "colab": {}
      },
      "source": [
        "byRegion = import_data.pivot_table(index='purchase_month', columns='地域', aggfunc='size', fill_value=0)\n",
        "byRegion"
      ],
      "execution_count": 0,
      "outputs": []
    },
    {
      "cell_type": "code",
      "metadata": {
        "id": "dVtBP4_H--2K",
        "colab_type": "code",
        "colab": {}
      },
      "source": [
        "away_data = pd.merge(uriage_data, kokyaku_data, left_on='customer_name', right_on='顧客名', how='right')\n",
        "away_data[away_data['purchase_date'].isnull()][['顧客名','メールアドレス','登録日']]"
      ],
      "execution_count": 0,
      "outputs": []
    }
  ]
}